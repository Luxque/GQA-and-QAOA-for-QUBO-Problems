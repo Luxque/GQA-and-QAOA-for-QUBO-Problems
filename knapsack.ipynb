{
 "cells": [
  {
   "cell_type": "markdown",
   "id": "1f4edde9",
   "metadata": {},
   "source": [
    "# Knapsack Problems"
   ]
  },
  {
   "cell_type": "markdown",
   "id": "3cd3da3a",
   "metadata": {},
   "source": [
    "## Abstract"
   ]
  },
  {
   "cell_type": "markdown",
   "id": "0c46bf5e",
   "metadata": {},
   "source": [
    "## Introduction"
   ]
  },
  {
   "cell_type": "markdown",
   "id": "c0f4e368",
   "metadata": {},
   "source": [
    "## Experiment"
   ]
  },
  {
   "cell_type": "code",
   "execution_count": null,
   "id": "57e4c27c",
   "metadata": {},
   "outputs": [],
   "source": [
    "%pip install numpy matplotlib qiskit qiskit_ibm_runtime tqdm"
   ]
  },
  {
   "cell_type": "code",
   "execution_count": null,
   "id": "56289b41",
   "metadata": {},
   "outputs": [],
   "source": [
    "# Import necessary libraries.\n",
    "\n",
    "import copy\n",
    "import numpy as np\n",
    "import matplotlib.pyplot as plt\n",
    "from qiskit import QuantumCircuit\n",
    "from qiskit_ibm_runtime import QiskitRuntimeService\n",
    "from qiskit_ibm_runtime import SamplerV2 as Sampler\n",
    "from qiskit.transpiler.preset_passmanagers import generate_preset_pass_manager\n",
    "from tqdm import tqdm\n",
    "\n",
    "# Global parameters.\n",
    "\n",
    "MAX_GENERATION = 100\n",
    "MAX_REPEATS = 5\n",
    "MIN_ITEMS = 10\n",
    "MAX_ITEMS = 127\n",
    "STEPS = 5\n",
    "SHOTS = 10_000\n",
    "\n",
    "# Get the backend ready.\n",
    "\n",
    "token = ''\n",
    "service = QiskitRuntimeService(channel='ibm_quantum', token=token)\n",
    "backend = service.backend('ibm_rensselaer')\n",
    "pass_manager = generate_preset_pass_manager(optimization_level=3, backend=backend)"
   ]
  },
  {
   "cell_type": "code",
   "execution_count": null,
   "id": "52cedf8d",
   "metadata": {},
   "outputs": [],
   "source": [
    "# Measure the quantum circuit.\n",
    "def make(qc: QuantumCircuit) -> list:\n",
    "    qc.measure_all()\n",
    "    trans_qc = pass_manager.run(qc)\n",
    "\n",
    "    sampler = Sampler(mode=backend)\n",
    "    job = sampler.run([trans_qc], shots=SHOTS)\n",
    "    result = job.result()\n",
    "    counts = result[0].data.meas.get_counts()\n",
    "\n",
    "    binary = max(counts, key=counts.get)\n",
    "    binary_list = [int(bit) for bit in binary]\n",
    "    \n",
    "    return binary_list\n",
    "\n",
    "# Initializing the circuit with Hadamard gates for superposition.\n",
    "def initialize(num_items: int) -> QuantumCircuit:\n",
    "    qc= QuantumCircuit(num_items)\n",
    "    for i in range(num_items):\n",
    "        qc.h(i)\n",
    "    \n",
    "    return qc\n",
    "\n",
    "# Repair the knapsack.\n",
    "def repair(weights: list, capacity: float, binary: list, num_items: int) -> list:\n",
    "    w = np.array(weights)\n",
    "    x = np.array(binary)\n",
    "    i, j = 0, 0\n",
    "\n",
    "    overfilled = False\n",
    "    if w @ x > capacity:\n",
    "        overfilled = True\n",
    "\n",
    "    while overfilled:\n",
    "        i = np.random.randint(0, num_items)\n",
    "        x[i] = 0\n",
    "        if w @ x <= capacity:\n",
    "            overfilled = False\n",
    "\n",
    "    while not overfilled:\n",
    "        j = np.random.randint(0, num_items)\n",
    "        x[j] = 1\n",
    "        if w @ x > capacity:\n",
    "            overfilled = True\n",
    "\n",
    "    x[j] = 0\n",
    "\n",
    "    return x\n",
    "\n",
    "# Compute profit.\n",
    "def evaluate(values: list, binary: list) -> float:\n",
    "    p = np.array(values)\n",
    "    x = np.array(binary)\n",
    "\n",
    "    return p @ x\n",
    "\n",
    "# Get rotation angles.\n",
    "def get_thetas(x: list, b: list, fx: float, fb: float, num_items: int) -> list:\n",
    "    geq = fx >= fb\n",
    "\n",
    "    thetas = []\n",
    "    for i in range(num_items):\n",
    "        if x[i] == 0 and b[i] == 0 and not geq:\n",
    "            thetas.append(0.0)\n",
    "        elif x[i] == 0 and b[i] == 0 and geq:\n",
    "            thetas.append(0.0)\n",
    "        elif x[i] == 0 and b[i] == 1 and not geq:\n",
    "            thetas.append(0.0)\n",
    "        elif x[i] == 0 and b[i] == 1 and geq:\n",
    "            thetas.append(2 * 0.05 * np.pi)\n",
    "        elif x[i] == 1 and b[i] == 0 and not geq:\n",
    "            thetas.append(2 * 0.01 * np.pi)\n",
    "        elif x[i] == 1 and b[i] == 0 and geq:\n",
    "            thetas.append(2 * 0.025 * np.pi)\n",
    "        elif x[i] == 1 and b[i] == 1 and not geq:\n",
    "            thetas.append(2 * 0.005 * np.pi)\n",
    "        elif x[i] == 1 and b[i] == 1 and geq:\n",
    "            thetas.append(2 * 0.025 * np.pi)\n",
    "        else:\n",
    "            raise RuntimeError(\"There must a typo in one of these if statements.\")\n",
    "\n",
    "    return thetas\n",
    "\n",
    "# Updating qubit's angle by thetas.\n",
    "def update(qc: QuantumCircuit, thetas: list, num_items: int) -> QuantumCircuit:\n",
    "    for i in range(num_items):\n",
    "        qc.ry(thetas[i], i)\n",
    "\n",
    "    return qc\n",
    "\n",
    "# Compare lists eleemnt-wise and length-wise.\n",
    "def equal_lists(list_a: list, list_b: list) -> bool:\n",
    "    if len(list_a) != len(list_b):\n",
    "        return False\n",
    "\n",
    "    return all(a == b for a, b in zip(list_a, list_b))\n",
    "\n",
    "# Perform genetic quantum algorithm.\n",
    "def gqa(weights: list, values: list, capacity: float, num_items: int) -> tuple:\n",
    "    t = 0\n",
    "    count_repeat = 0\n",
    "\n",
    "    qc_accumulated = initialize(num_items)\n",
    "    qc_measured = copy.deepcopy(qc_accumulated)\n",
    "    binary = make(qc_measured)\n",
    "    \n",
    "    best_solution = repair(weights, capacity, binary, num_items)\n",
    "    best_profit = evaluate(values, best_solution)\n",
    "    count_update = 1\n",
    "\n",
    "    # Try to prevent spamming requests by detecting repeats.\n",
    "    while t < MAX_GENERATION and count_repeat < MAX_REPEATS:\n",
    "        t += 1\n",
    "\n",
    "        qc_measured = copy.deepcopy(qc_accumulated)\n",
    "        binary = make(qc_measured)\n",
    "        solution = repair(weights, capacity, binary, num_items)\n",
    "\n",
    "        profit = evaluate(values, solution)\n",
    "        thetas = get_thetas(solution, best_solution, profit, best_profit, num_items)\n",
    "        qc_accumulated = update(qc_accumulated, thetas, num_items)\n",
    "\n",
    "        if equal_lists(solution, best_solution):\n",
    "            count_repeat += 1\n",
    "        else:\n",
    "            if profit > best_profit:\n",
    "                best_profit = profit\n",
    "                best_solution = solution\n",
    "                count_update += 1\n",
    "            count_repeat = 0\n",
    "\n",
    "    return (best_profit, best_solution, count_update)"
   ]
  },
  {
   "cell_type": "markdown",
   "id": "5e289225",
   "metadata": {},
   "source": [
    "## Discussion"
   ]
  },
  {
   "cell_type": "markdown",
   "id": "9d6c2656",
   "metadata": {},
   "source": [
    "## Conclusion"
   ]
  },
  {
   "cell_type": "markdown",
   "id": "60d090c9",
   "metadata": {},
   "source": [
    "## References"
   ]
  }
 ],
 "metadata": {
  "kernelspec": {
   "display_name": "venv",
   "language": "python",
   "name": "python3"
  },
  "language_info": {
   "name": "python",
   "version": "3.13.7"
  }
 },
 "nbformat": 4,
 "nbformat_minor": 5
}
