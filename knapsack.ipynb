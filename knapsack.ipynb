{
 "cells": [
  {
   "cell_type": "markdown",
   "id": "1f4edde9",
   "metadata": {},
   "source": [
    "# Knapsack Problems"
   ]
  },
  {
   "cell_type": "markdown",
   "id": "3cd3da3a",
   "metadata": {},
   "source": [
    "## Abstract"
   ]
  },
  {
   "cell_type": "markdown",
   "id": "0c46bf5e",
   "metadata": {},
   "source": [
    "## Introduction"
   ]
  },
  {
   "cell_type": "markdown",
   "id": "c0f4e368",
   "metadata": {},
   "source": [
    "## Experiment"
   ]
  },
  {
   "cell_type": "markdown",
   "id": "5e289225",
   "metadata": {},
   "source": [
    "## Discussion"
   ]
  },
  {
   "cell_type": "markdown",
   "id": "9d6c2656",
   "metadata": {},
   "source": [
    "## Conclusion"
   ]
  },
  {
   "cell_type": "markdown",
   "id": "60d090c9",
   "metadata": {},
   "source": [
    "## References"
   ]
  }
 ],
 "metadata": {
  "language_info": {
   "name": "python"
  }
 },
 "nbformat": 4,
 "nbformat_minor": 5
}
